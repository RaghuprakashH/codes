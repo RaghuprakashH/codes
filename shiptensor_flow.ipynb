{
 "cells": [
  {
   "cell_type": "code",
   "execution_count": 1,
   "id": "introductory-trunk",
   "metadata": {},
   "outputs": [],
   "source": [
    "import tensorflow as tf\n",
    "from tensorflow.keras import datasets,layers,models\n",
    "import matplotlib.pyplot as plt\n",
    "import numpy as np\n"
   ]
  },
  {
   "cell_type": "code",
   "execution_count": 4,
   "id": "moral-consumer",
   "metadata": {},
   "outputs": [],
   "source": [
    "(x_train,y_train),(x_test,y_test) = datasets.cifar10.load_data()"
   ]
  },
  {
   "cell_type": "code",
   "execution_count": 5,
   "id": "bigger-optimization",
   "metadata": {},
   "outputs": [
    {
     "data": {
      "text/plain": [
       "(50000, 32, 32, 3)"
      ]
     },
     "execution_count": 5,
     "metadata": {},
     "output_type": "execute_result"
    }
   ],
   "source": [
    "x_train.shape"
   ]
  },
  {
   "cell_type": "code",
   "execution_count": 6,
   "id": "younger-lotus",
   "metadata": {},
   "outputs": [
    {
     "data": {
      "text/plain": [
       "(10000, 32, 32, 3)"
      ]
     },
     "execution_count": 6,
     "metadata": {},
     "output_type": "execute_result"
    }
   ],
   "source": [
    "x_test.shape"
   ]
  },
  {
   "cell_type": "code",
   "execution_count": 7,
   "id": "postal-hygiene",
   "metadata": {},
   "outputs": [
    {
     "data": {
      "text/plain": [
       "(50000, 1)"
      ]
     },
     "execution_count": 7,
     "metadata": {},
     "output_type": "execute_result"
    }
   ],
   "source": [
    "y_train.shape"
   ]
  },
  {
   "cell_type": "code",
   "execution_count": 8,
   "id": "elementary-radar",
   "metadata": {},
   "outputs": [
    {
     "data": {
      "text/plain": [
       "array([[6],\n",
       "       [9],\n",
       "       [9],\n",
       "       [4],\n",
       "       [1]], dtype=uint8)"
      ]
     },
     "execution_count": 8,
     "metadata": {},
     "output_type": "execute_result"
    }
   ],
   "source": [
    "y_train[:5]"
   ]
  },
  {
   "cell_type": "code",
   "execution_count": 9,
   "id": "spoken-whale",
   "metadata": {},
   "outputs": [],
   "source": [
    "y_train =y_train.reshape(-1,)"
   ]
  },
  {
   "cell_type": "code",
   "execution_count": 11,
   "id": "understood-burlington",
   "metadata": {},
   "outputs": [
    {
     "data": {
      "text/plain": [
       "array([6, 9, 9, 4, 1], dtype=uint8)"
      ]
     },
     "execution_count": 11,
     "metadata": {},
     "output_type": "execute_result"
    }
   ],
   "source": [
    "y_train[:5]"
   ]
  },
  {
   "cell_type": "code",
   "execution_count": 12,
   "id": "biblical-synthesis",
   "metadata": {},
   "outputs": [],
   "source": [
    "y_test = y_test.reshape(-1,)"
   ]
  },
  {
   "cell_type": "code",
   "execution_count": 13,
   "id": "executive-innocent",
   "metadata": {},
   "outputs": [
    {
     "data": {
      "text/plain": [
       "array([3, 8, 8, 0, 6], dtype=uint8)"
      ]
     },
     "execution_count": 13,
     "metadata": {},
     "output_type": "execute_result"
    }
   ],
   "source": [
    "y_test[:5]"
   ]
  },
  {
   "cell_type": "code",
   "execution_count": 14,
   "id": "reliable-increase",
   "metadata": {},
   "outputs": [],
   "source": [
    "classes = [\"airplane\",\"automobile\",\"bird\",\"cat\",\"deer\",\"dog\",\"frog\",\"horse\",\"ship\",\"truck\"]"
   ]
  },
  {
   "cell_type": "code",
   "execution_count": 20,
   "id": "hindu-potter",
   "metadata": {},
   "outputs": [],
   "source": [
    "def plot_sample(x, y, index):\n",
    "    plt.figure(figsize = (15,2))\n",
    "    plt.imshow(x[index])\n",
    "    plt.xlabel(classes[y[index]])"
   ]
  },
  {
   "cell_type": "code",
   "execution_count": 26,
   "id": "revised-seafood",
   "metadata": {},
   "outputs": [
    {
     "data": {
      "image/png": "[encoded data removed]",
      "text/plain": [
       "<Figure size 1080x144 with 1 Axes>"
      ]
     },
     "metadata": {
      "needs_background": "light"
     },
     "output_type": "display_data"
    }
   ],
   "source": [
    "plot_sample(x_train, y_train, 4)"
   ]
  },
  {
   "cell_type": "code",
   "execution_count": 27,
   "id": "technological-poetry",
   "metadata": {},
   "outputs": [
    {
     "data": {
      "image/png": "[encoded data removed]",
      "text/plain": [
       "<Figure size 1080x144 with 1 Axes>"
      ]
     },
     "metadata": {
      "needs_background": "light"
     },
     "output_type": "display_data"
    }
   ],
   "source": [
    "plot_sample(x_train, y_train, 1)"
   ]
  },
  {
   "cell_type": "code",
   "execution_count": 28,
   "id": "passive-suffering",
   "metadata": {},
   "outputs": [],
   "source": [
    "x_train = x_train / 255.0\n",
    "x_test = x_test / 255.0"
   ]
  },
  {
   "cell_type": "code",
   "execution_count": 29,
   "id": "willing-boating",
   "metadata": {},
   "outputs": [
    {
     "name": "stdout",
     "output_type": "stream",
     "text": [
      "Train on 50000 samples\n",
      "Epoch 1/5\n",
      "50000/50000 [==============================] - 59s 1ms/sample - loss: 1.8603 - accuracy: 0.3347\n",
      "Epoch 2/5\n",
      "50000/50000 [==============================] - 59s 1ms/sample - loss: 1.6591 - accuracy: 0.4131\n",
      "Epoch 3/5\n",
      "50000/50000 [==============================] - 59s 1ms/sample - loss: 1.5694 - accuracy: 0.4466\n",
      "Epoch 4/5\n",
      "50000/50000 [==============================] - 59s 1ms/sample - loss: 1.5071 - accuracy: 0.4691\n",
      "Epoch 5/5\n",
      "50000/50000 [==============================] - 59s 1ms/sample - loss: 1.4569 - accuracy: 0.4854\n"
     ]
    },
    {
     "data": {
      "text/plain": [
       "<tensorflow.python.keras.callbacks.History at 0x1ae1a2737f0>"
      ]
     },
     "execution_count": 29,
     "metadata": {},
     "output_type": "execute_result"
    }
   ],
   "source": [
    "ann = models.Sequential([\n",
    "        layers.Flatten(input_shape=(32,32,3)),\n",
    "        layers.Dense(3000, activation='relu'),\n",
    "        layers.Dense(1000, activation='relu'),\n",
    "        layers.Dense(10, activation='sigmoid')    \n",
    "    ])\n",
    "\n",
    "ann.compile(optimizer='SGD',\n",
    "              loss='sparse_categorical_crossentropy',\n",
    "              metrics=['accuracy'])\n",
    "\n",
    "ann.fit(x_train, y_train, epochs=5)"
   ]
  },
  {
   "cell_type": "code",
   "execution_count": 30,
   "id": "daily-statistics",
   "metadata": {},
   "outputs": [
    {
     "name": "stdout",
     "output_type": "stream",
     "text": [
      "Classification Report: \n",
      "               precision    recall  f1-score   support\n",
      "\n",
      "           0       0.48      0.64      0.55      1000\n",
      "           1       0.56      0.61      0.58      1000\n",
      "           2       0.46      0.21      0.29      1000\n",
      "           3       0.42      0.23      0.30      1000\n",
      "           4       0.49      0.29      0.37      1000\n",
      "           5       0.45      0.33      0.38      1000\n",
      "           6       0.49      0.62      0.55      1000\n",
      "           7       0.43      0.67      0.53      1000\n",
      "           8       0.64      0.47      0.55      1000\n",
      "           9       0.41      0.70      0.52      1000\n",
      "\n",
      "    accuracy                           0.48     10000\n",
      "   macro avg       0.48      0.48      0.46     10000\n",
      "weighted avg       0.48      0.48      0.46     10000\n",
      "\n"
     ]
    }
   ],
   "source": [
    "from sklearn.metrics import confusion_matrix , classification_report\n",
    "import numpy as np\n",
    "y_pred = ann.predict(x_test)\n",
    "y_pred_classes = [np.argmax(element) for element in y_pred]\n",
    "\n",
    "print(\"Classification Report: \\n\", classification_report(y_test, y_pred_classes))"
   ]
  },
  {
   "cell_type": "code",
   "execution_count": 31,
   "id": "handy-buying",
   "metadata": {},
   "outputs": [],
   "source": [
    "cnn = models.Sequential([\n",
    "    layers.Conv2D(filters=32, kernel_size=(3, 3), activation='relu', input_shape=(32, 32, 3)),\n",
    "    layers.MaxPooling2D((2, 2)),\n",
    "    \n",
    "    layers.Conv2D(filters=64, kernel_size=(3, 3), activation='relu'),\n",
    "    layers.MaxPooling2D((2, 2)),\n",
    "    \n",
    "    layers.Flatten(),\n",
    "    layers.Dense(64, activation='relu'),\n",
    "    layers.Dense(10, activation='softmax')\n",
    "])"
   ]
  },
  {
   "cell_type": "code",
   "execution_count": 32,
   "id": "common-positive",
   "metadata": {},
   "outputs": [],
   "source": [
    "cnn.compile(optimizer='adam',\n",
    "              loss='sparse_categorical_crossentropy',\n",
    "              metrics=['accuracy'])"
   ]
  },
  {
   "cell_type": "code",
   "execution_count": 33,
   "id": "flexible-independence",
   "metadata": {},
   "outputs": [
    {
     "name": "stdout",
     "output_type": "stream",
     "text": [
      "Train on 50000 samples\n",
      "Epoch 1/10\n",
      "50000/50000 [==============================] - 25s 503us/sample - loss: 1.4942 - accuracy: 0.4616\n",
      "Epoch 2/10\n",
      "50000/50000 [==============================] - 27s 537us/sample - loss: 1.1354 - accuracy: 0.6026\n",
      "Epoch 3/10\n",
      "50000/50000 [==============================] - 28s 559us/sample - loss: 1.0043 - accuracy: 0.6507\n",
      "Epoch 4/10\n",
      "50000/50000 [==============================] - 28s 565us/sample - loss: 0.9231 - accuracy: 0.6811\n",
      "Epoch 5/10\n",
      "50000/50000 [==============================] - 28s 552us/sample - loss: 0.8584 - accuracy: 0.7012\n",
      "Epoch 6/10\n",
      "50000/50000 [==============================] - 26s 522us/sample - loss: 0.8075 - accuracy: 0.7177\n",
      "Epoch 7/10\n",
      "50000/50000 [==============================] - 27s 543us/sample - loss: 0.7639 - accuracy: 0.7341\n",
      "Epoch 8/10\n",
      "50000/50000 [==============================] - 27s 535us/sample - loss: 0.7229 - accuracy: 0.7493\n",
      "Epoch 9/10\n",
      "50000/50000 [==============================] - 26s 528us/sample - loss: 0.6868 - accuracy: 0.7599\n",
      "Epoch 10/10\n",
      "50000/50000 [==============================] - 26s 522us/sample - loss: 0.6541 - accuracy: 0.7706\n"
     ]
    },
    {
     "data": {
      "text/plain": [
       "<tensorflow.python.keras.callbacks.History at 0x1ae1b117ef0>"
      ]
     },
     "execution_count": 33,
     "metadata": {},
     "output_type": "execute_result"
    }
   ],
   "source": [
    "cnn.fit(x_train, y_train, epochs=10)"
   ]
  },
  {
   "cell_type": "code",
   "execution_count": 34,
   "id": "intense-proof",
   "metadata": {},
   "outputs": [
    {
     "name": "stdout",
     "output_type": "stream",
     "text": [
      "10000/10000 [==============================] - 1s 118us/sample - loss: 0.9212 - accuracy: 0.6976\n"
     ]
    },
    {
     "data": {
      "text/plain": [
       "[0.9211868320465088, 0.6976]"
      ]
     },
     "execution_count": 34,
     "metadata": {},
     "output_type": "execute_result"
    }
   ],
   "source": [
    "cnn.evaluate(x_test,y_test)"
   ]
  },
  {
   "cell_type": "code",
   "execution_count": 35,
   "id": "indirect-category",
   "metadata": {},
   "outputs": [
    {
     "data": {
      "text/plain": [
       "array([3, 8, 8, 0, 6], dtype=uint8)"
      ]
     },
     "execution_count": 35,
     "metadata": {},
     "output_type": "execute_result"
    }
   ],
   "source": [
    "y_test[:5]"
   ]
  },
  {
   "cell_type": "code",
   "execution_count": 36,
   "id": "prompt-angel",
   "metadata": {},
   "outputs": [
    {
     "data": {
      "text/plain": [
       "array([[2.5718918e-03, 1.9434960e-05, 4.6363930e-04, 8.0559522e-01,\n",
       "        6.5151853e-03, 1.6578373e-01, 1.1383438e-03, 4.1428421e-04,\n",
       "        1.7477868e-02, 2.0454207e-05],\n",
       "       [6.9293035e-03, 7.7525592e-01, 1.0839832e-05, 6.5240979e-06,\n",
       "        9.5713142e-07, 6.3919185e-07, 3.0748608e-06, 2.1099224e-07,\n",
       "        1.9707799e-01, 2.0714568e-02],\n",
       "       [8.6912997e-02, 2.0636687e-01, 4.6169022e-03, 1.0103412e-02,\n",
       "        1.0801122e-02, 2.2672088e-04, 1.1972222e-03, 8.4040556e-03,\n",
       "        1.8274787e-01, 4.8862293e-01],\n",
       "       [1.4250977e-01, 2.9828059e-04, 2.9961171e-02, 4.5622978e-04,\n",
       "        3.0249653e-03, 8.5679758e-06, 9.4863906e-04, 1.7637323e-05,\n",
       "        8.2251835e-01, 2.5643944e-04],\n",
       "       [2.1853323e-06, 3.8808710e-07, 6.2821181e-03, 1.2551344e-03,\n",
       "        2.7362770e-01, 3.4032768e-05, 7.1879715e-01, 1.8034237e-07,\n",
       "        9.8140117e-07, 1.8547108e-07]], dtype=float32)"
      ]
     },
     "execution_count": 36,
     "metadata": {},
     "output_type": "execute_result"
    }
   ],
   "source": [
    "y_pred = cnn.predict(x_test)\n",
    "y_pred[:5]"
   ]
  },
  {
   "cell_type": "code",
   "execution_count": 37,
   "id": "straight-transition",
   "metadata": {},
   "outputs": [
    {
     "data": {
      "text/plain": [
       "[3, 1, 9, 8, 6]"
      ]
     },
     "execution_count": 37,
     "metadata": {},
     "output_type": "execute_result"
    }
   ],
   "source": [
    "y_classes = [np.argmax(element) for element in y_pred]\n",
    "y_classes[:5]"
   ]
  },
  {
   "cell_type": "code",
   "execution_count": 38,
   "id": "engaged-fashion",
   "metadata": {},
   "outputs": [
    {
     "data": {
      "text/plain": [
       "array([3, 8, 8, 0, 6], dtype=uint8)"
      ]
     },
     "execution_count": 38,
     "metadata": {},
     "output_type": "execute_result"
    }
   ],
   "source": [
    "y_test[:5]"
   ]
  },
  {
   "cell_type": "code",
   "execution_count": 48,
   "id": "fleet-liberty",
   "metadata": {},
   "outputs": [
    {
     "data": {
      "image/png": "[encoded data removed]",
      "text/plain": [
       "<Figure size 1080x144 with 1 Axes>"
      ]
     },
     "metadata": {
      "needs_background": "light"
     },
     "output_type": "display_data"
    }
   ],
   "source": [
    "plot_sample(x_test, y_test,4)"
   ]
  },
  {
   "cell_type": "code",
   "execution_count": 49,
   "id": "french-killing",
   "metadata": {},
   "outputs": [
    {
     "data": {
      "text/plain": [
       "'frog'"
      ]
     },
     "execution_count": 49,
     "metadata": {},
     "output_type": "execute_result"
    }
   ],
   "source": [
    "classes[y_classes[4]]"
   ]
  },
  {
   "cell_type": "code",
   "execution_count": 65,
   "id": "middle-avenue",
   "metadata": {},
   "outputs": [
    {
     "data": {
      "image/png": "[encoded data removed]",
      "text/plain": [
       "<Figure size 1080x144 with 1 Axes>"
      ]
     },
     "metadata": {
      "needs_background": "light"
     },
     "output_type": "display_data"
    }
   ],
   "source": [
    "plot_sample(x_test, y_test,7)"
   ]
  },
  {
   "cell_type": "code",
   "execution_count": 58,
   "id": "loving-revelation",
   "metadata": {},
   "outputs": [
    {
     "data": {
      "text/plain": [
       "'airplane'"
      ]
     },
     "execution_count": 58,
     "metadata": {},
     "output_type": "execute_result"
    }
   ],
   "source": [
    "classes[y_classes[3]]"
   ]
  },
  {
   "cell_type": "code",
   "execution_count": 45,
   "id": "quiet-concert",
   "metadata": {},
   "outputs": [
    {
     "data": {
      "text/plain": [
       "['airplane',\n",
       " 'automobile',\n",
       " 'bird',\n",
       " 'cat',\n",
       " 'deer',\n",
       " 'dog',\n",
       " 'frog',\n",
       " 'horse',\n",
       " 'ship',\n",
       " 'truck']"
      ]
     },
     "execution_count": 45,
     "metadata": {},
     "output_type": "execute_result"
    }
   ],
   "source": [
    "classes\n"
   ]
  },
  {
   "cell_type": "code",
   "execution_count": null,
   "id": "julian-copyright",
   "metadata": {},
   "outputs": [],
   "source": []
  }
 ],
 "metadata": {
  "kernelspec": {
   "display_name": "Python 3",
   "language": "python",
   "name": "python3"
  },
  "language_info": {
   "codemirror_mode": {
    "name": "ipython",
    "version": 3
   },
   "file_extension": ".py",
   "mimetype": "text/x-python",
   "name": "python",
   "nbconvert_exporter": "python",
   "pygments_lexer": "ipython3",
   "version": "3.6.12"
  },
  "toc": {
   "base_numbering": 1,
   "nav_menu": {},
   "number_sections": true,
   "sideBar": true,
   "skip_h1_title": false,
   "title_cell": "Table of Contents",
   "title_sidebar": "Contents",
   "toc_cell": false,
   "toc_position": {},
   "toc_section_display": true,
   "toc_window_display": false
  }
 },
 "nbformat": 4,
 "nbformat_minor": 5
}
